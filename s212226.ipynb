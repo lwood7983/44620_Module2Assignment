{
 "cells": [
  {
   "cell_type": "markdown",
   "id": "f5967ff4-a876-4905-af16-42fb741feb8e",
   "metadata": {},
   "source": [
    "Loni Wood"
   ]
  },
  {
   "cell_type": "code",
   "execution_count": 59,
   "id": "27e34afc-448a-4649-bb8a-75cb82b11880",
   "metadata": {},
   "outputs": [
    {
     "name": "stdout",
     "output_type": "stream",
     "text": [
      "*      *\n",
      "**    **\n",
      "***  ***\n",
      "********\n"
     ]
    }
   ],
   "source": [
    "for i in range(1,5):\n",
    "    for j in range(i):\n",
    "        print(\"*\", end='')\n",
    "    for j in range(4-i):\n",
    "        print(' ', end='')\n",
    "    for j in range(4-i):\n",
    "        print(' ', end='')\n",
    "    for j in range(i-1):\n",
    "        print(\"*\", end='')\n",
    "    print(\"*\")\n"
   ]
  },
  {
   "cell_type": "code",
   "execution_count": null,
   "id": "5a23a1d4-0739-40db-b459-ba9f40be574c",
   "metadata": {},
   "outputs": [],
   "source": []
  }
 ],
 "metadata": {
  "kernelspec": {
   "display_name": "Python 3 (ipykernel)",
   "language": "python",
   "name": "python3"
  },
  "language_info": {
   "codemirror_mode": {
    "name": "ipython",
    "version": 3
   },
   "file_extension": ".py",
   "mimetype": "text/x-python",
   "name": "python",
   "nbconvert_exporter": "python",
   "pygments_lexer": "ipython3",
   "version": "3.9.7"
  }
 },
 "nbformat": 4,
 "nbformat_minor": 5
}
